{
 "cells": [
  {
   "cell_type": "markdown",
   "metadata": {},
   "source": [
    "# Transformations\n",
    "\n",
    "Using the NFFT we can quickly compute\n",
    "\n",
    "$$\n",
    "Q_n = \\sum_m x_m \\exp[2\\pi i (n - N_f/2) q_m]\n",
    "$$\n",
    "\n",
    "for $0 \\le n < N_f$ and $-0.5 \\le q_n < 0.5$.\n",
    "\n",
    "What we actually want to compute is the following:\n",
    "\n",
    "$$\n",
    "S_n = \\sum_m y_m \\exp[2 \\pi i (f_0 + n\\delta f) t_m]\n",
    "$$\n",
    "\n",
    "for arbitrary $f_0$, $\\delta f$, and $t_m$."
   ]
  },
  {
   "cell_type": "markdown",
   "metadata": {},
   "source": [
    "Let's define\n",
    "\n",
    "$$\n",
    "T = max(t) - min(t)\n",
    "$$\n",
    "\n",
    "And for some positive value $\\tau$,\n",
    "\n",
    "$$\n",
    "T^\\ast = T + \\tau\n",
    "$$\n",
    "\n",
    "$$\n",
    "t_0 = min(t) - \\tau / 2\n",
    "$$"
   ]
  },
  {
   "cell_type": "markdown",
   "metadata": {},
   "source": [
    "Then we can write\n",
    "\n",
    "$$\n",
    "q_m = \\frac{t_m - t_0}{T^\\ast} - \\frac{1}{2}\n",
    "$$\n",
    "\n",
    "so\n",
    "\n",
    "$$\n",
    "t_m = (t_0 + T^\\ast/2) + T^\\ast q_m\n",
    "$$"
   ]
  },
  {
   "cell_type": "markdown",
   "metadata": {},
   "source": [
    "Plugging this in gives\n",
    "\n",
    "$$\n",
    "S_n = \\exp[2 \\pi i (f_0 + n\\delta f) (t_0 + T^\\ast/2)]\\sum_m y_m \\exp[2 \\pi i (f_0 + n\\delta f)T^\\ast q_m]\n",
    "$$"
   ]
  },
  {
   "cell_type": "markdown",
   "metadata": {},
   "source": [
    "If we set $\\delta f = 1/T^\\ast$ then\n",
    "\n",
    "$$\n",
    "S_n = \\exp[2 \\pi i (f_0 + n\\delta f) (t_0 + T^\\ast/2)]\\sum_m y_m \\exp[2 \\pi i (f_0 T^\\ast + n) q_m]\n",
    "$$\n",
    "\n",
    "With some manipulation this becomes\n",
    "\n",
    "$$\n",
    "S_n = \\exp[2 \\pi i (f_0 + n\\delta f) (t_0 + T^\\ast/2)]\\sum_m y_m \\exp[2\\pi i (f_0 T^\\ast + N_f / 2)q_m]\\exp[2 \\pi i (n - N_f/2) q_m]\n",
    "$$"
   ]
  },
  {
   "cell_type": "markdown",
   "metadata": {},
   "source": [
    "So let \n",
    "\n",
    "$$\n",
    "x_m = y_m \\exp[2 \\pi i (f_0 T^\\ast + N_f / 2) q_m]\n",
    "$$\n",
    "\n",
    "And then we have\n",
    "\n",
    "$$\n",
    "S_n = \\exp[2 \\pi i (f_0 + n\\delta f) (t_0 + T^\\ast/2)] \\sum_m f_m \\exp[2 \\pi i (n - N_f/2) q_m]\n",
    "$$"
   ]
  },
  {
   "cell_type": "markdown",
   "metadata": {},
   "source": [
    "Notice that our assumption that $\\delta f = 1/T^\\ast = 1/(T + \\tau)$ means that $\\tau = 1/\\delta f - T$\n",
    "\n",
    "If we define the oversampling factor $F_O \\ge 1$ such that $\\delta f = F_O / T$ then\n",
    "\n",
    "$$\n",
    "\\tau = T(F_O - 1)\n",
    "$$"
   ]
  },
  {
   "cell_type": "markdown",
   "metadata": {},
   "source": [
    "So, to summarize; given $t_m$, $y_m$, $f_0$, and $F_O \\ge 1$, we want to compute\n",
    "\n",
    "$$\n",
    "S_n = \\sum_m y_m \\exp[2 \\pi i (f_0 + n\\delta f) t_m]\n",
    "$$\n",
    "\n",
    "We can define:\n",
    "\n",
    "$$\n",
    "\\delta f = 1 / (F_O  T)\n",
    "$$\n",
    "\n",
    "$$\n",
    "t_0 = min(t) - T\\frac{F_O - 1}{2}\n",
    "$$\n",
    "\n",
    "$$\n",
    "T^\\ast = F_O T\n",
    "$$\n",
    "\n",
    "$$\n",
    "q_m = \\frac{t_m - t_0}{T^\\ast} - \\frac{1}{2}\n",
    "$$\n",
    "\n",
    "$$\n",
    "x_m = y_m \\exp[2 \\pi i (f_0 T^\\ast + N_f / 2) q_m]\n",
    "$$\n",
    "\n",
    "Then use the NFFT to compute\n",
    "\n",
    "$$\n",
    "Q_n = \\sum_m x_m \\exp[2\\pi i (n - N_f/2) q_m]\n",
    "$$\n",
    "\n",
    "then we can find\n",
    "\n",
    "$$\n",
    "S_n = \\exp[2 \\pi i (f_0 + n\\delta f) (t_0 + T/2)] Q_n\n",
    "$$"
   ]
  },
  {
   "cell_type": "code",
   "execution_count": null,
   "metadata": {
    "collapsed": true
   },
   "outputs": [],
   "source": []
  }
 ],
 "metadata": {
  "anaconda-cloud": {},
  "kernelspec": {
   "display_name": "Python 3.6",
   "language": "python",
   "name": "python3.6"
  },
  "language_info": {
   "codemirror_mode": {
    "name": "ipython",
    "version": 3
   },
   "file_extension": ".py",
   "mimetype": "text/x-python",
   "name": "python",
   "nbconvert_exporter": "python",
   "pygments_lexer": "ipython3",
   "version": "3.6.0"
  }
 },
 "nbformat": 4,
 "nbformat_minor": 0
}
